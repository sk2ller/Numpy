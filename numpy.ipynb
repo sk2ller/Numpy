{
 "cells": [
  {
   "cell_type": "code",
   "execution_count": 3,
   "id": "9d0fbf32",
   "metadata": {},
   "outputs": [
    {
     "name": "stdout",
     "output_type": "stream",
     "text": [
      "[[1, 2], [3, 4], [5, 5]]\n"
     ]
    }
   ],
   "source": [
    "#Ex1\n",
    "import numpy as np\n",
    "new_array=np.array([[1,2],[3,4],[5,5]])\n",
    "new_list=new_array.tolist()\n",
    "print(new_list)"
   ]
  },
  {
   "cell_type": "code",
   "execution_count": 14,
   "id": "b35bc82e",
   "metadata": {},
   "outputs": [
    {
     "name": "stdout",
     "output_type": "stream",
     "text": [
      "[[1 7 7]\n",
      " [1 2 2]\n",
      " [5 2 6]] \n",
      " sum of the diagonal elements is: 23\n"
     ]
    }
   ],
   "source": [
    "#Ex2\n",
    "import numpy as np\n",
    "a=np.random.randint(1,9,size=(3,3))\n",
    "i=0\n",
    "c=-1\n",
    "sum=0\n",
    "while i<len(a):\n",
    "  sum+=a[i,i]\n",
    "  sum+=a[c,i]\n",
    "  i+=1\n",
    "  c+=-1\n",
    "print(a,'\\n',\"sum of the diagonal elements is:\",sum)"
   ]
  },
  {
   "cell_type": "code",
   "execution_count": 18,
   "id": "8b7911a3",
   "metadata": {},
   "outputs": [
    {
     "name": "stdout",
     "output_type": "stream",
     "text": [
      "x= 0\n",
      "the numbers higher than x are: [1, 2, 3, 5]\n"
     ]
    }
   ],
   "source": [
    "#Ex3\n",
    "import numpy as np\n",
    "x=np.random.randint(0,9)\n",
    "a=np.array([[1,2],[3,5]])\n",
    "i=0\n",
    "result=list()\n",
    "print('x=',x)\n",
    "while i<len(a):\n",
    "  b=0\n",
    "  while b<len(a[i]):\n",
    "    if a[i,b]>=x:\n",
    "      result.append(a[i,b])\n",
    "    b=b+1\n",
    "  i+=1\n",
    "print(\"the numbers higher than x are:\",result)"
   ]
  },
  {
   "cell_type": "code",
   "execution_count": 23,
   "id": "e0787220",
   "metadata": {},
   "outputs": [
    {
     "name": "stdout",
     "output_type": "stream",
     "text": [
      "array 1: [[1 1 4 5]\n",
      " [6 8 4 2]] \n",
      "\n",
      " array 2: [[6 4 8 8]\n",
      " [2 1 1 4]] \n",
      "\n",
      " sum: [[ 7  5 12 13]\n",
      " [ 8  9  5  6]]\n"
     ]
    }
   ],
   "source": [
    "#Ex4\n",
    "import numpy as np\n",
    "a=np.random.randint(0,9,size=(2,4))\n",
    "b=np.random.randint(0,9,size=(2,4))\n",
    "c=a+b\n",
    "print(\"array 1:\",a,'\\n\\n',\"array 2:\",b,'\\n\\n',\"sum:\",c)"
   ]
  },
  {
   "cell_type": "code",
   "execution_count": 31,
   "id": "f7e8f09c",
   "metadata": {},
   "outputs": [
    {
     "name": "stdout",
     "output_type": "stream",
     "text": [
      "[[5 3 3]\n",
      " [5 1 3]\n",
      " [7 3 7]]\n",
      "3.6666666666666665\n",
      "3.0\n",
      "5.666666666666667\n"
     ]
    }
   ],
   "source": [
    "#Ex5\n",
    "import numpy as np\n",
    "matrix=np.random.randint(0,9,size=(3,3))\n",
    "print(matrix)\n",
    "for i in matrix:\n",
    "  print(np.mean(i))"
   ]
  }
 ],
 "metadata": {
  "kernelspec": {
   "display_name": "Python 3",
   "language": "python",
   "name": "python3"
  },
  "language_info": {
   "codemirror_mode": {
    "name": "ipython",
    "version": 3
   },
   "file_extension": ".py",
   "mimetype": "text/x-python",
   "name": "python",
   "nbconvert_exporter": "python",
   "pygments_lexer": "ipython3",
   "version": "3.8.8"
  }
 },
 "nbformat": 4,
 "nbformat_minor": 5
}
